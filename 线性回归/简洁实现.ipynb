{
 "cells": [
  {
   "cell_type": "code",
   "execution_count": 1,
   "metadata": {},
   "outputs": [],
   "source": [
    "import numpy as np\n",
    "import torch\n",
    "from torch.utils import data\n",
    "from d2l import torch as d2l\n",
    "\n",
    "true_w = torch.tensor([2, -3.4])\n",
    "true_b = 4.2\n",
    "features, labels = d2l.synthetic_data(true_w, true_b, 1000)"
   ]
  },
  {
   "cell_type": "code",
   "execution_count": null,
   "metadata": {},
   "outputs": [],
   "source": [
    "def load_array(data_arrays, batch_size, is_train=True):  #@save\n",
    "    \"\"\"构造一个PyTorch数据迭代器\"\"\"\n",
    "    # data.TensorDataset(*data_arrays) 将传入的 data_arrays 中的多个张量（如特征和标签）组合成一个 PyTorch 的 TensorDataset 对象。*data_arrays 是解包操作符，它可以将 list 或 tuple 元素解包成函数参数。\n",
    "    dataset = data.TensorDataset(*data_arrays)\n",
    "    # data.DataLoader 是 PyTorch 中的一个数据加载器，用于按批次加载数据。\n",
    "    # shuffle=is_train 如果是训练集 (is_train=True)，则会对数据进行打乱（shuffle=True），这样可以防止模型学习到数据的顺序。如果是验证集或测试集，通常不打乱数据。\n",
    "    return data.DataLoader(dataset, batch_size, shuffle=is_train)\n",
    "\n",
    "batch_size = 10\n",
    "data_iter = load_array((features, labels), batch_size)"
   ]
  },
  {
   "cell_type": "code",
   "execution_count": 3,
   "metadata": {},
   "outputs": [
    {
     "data": {
      "text/plain": [
       "[tensor([[-0.5967,  0.7922],\n",
       "         [-0.1097, -1.0611],\n",
       "         [ 0.0799,  1.0233],\n",
       "         [-0.0200, -0.1741],\n",
       "         [ 0.6622, -2.1335],\n",
       "         [-0.9626,  1.8821],\n",
       "         [-1.0281,  1.1155],\n",
       "         [ 0.2602, -1.9458],\n",
       "         [-0.9818,  0.7919],\n",
       "         [-0.0602, -0.0865]]),\n",
       " tensor([[ 0.3087],\n",
       "         [ 7.5849],\n",
       "         [ 0.8756],\n",
       "         [ 4.7293],\n",
       "         [12.7844],\n",
       "         [-4.1238],\n",
       "         [-1.6422],\n",
       "         [11.3344],\n",
       "         [-0.4484],\n",
       "         [ 4.3572]])]"
      ]
     },
     "execution_count": 3,
     "metadata": {},
     "output_type": "execute_result"
    }
   ],
   "source": [
    "next(iter(data_iter))"
   ]
  },
  {
   "cell_type": "code",
   "execution_count": null,
   "metadata": {},
   "outputs": [],
   "source": [
    "# nn是神经网络的缩写\n",
    "from torch import nn\n",
    "# 在PyTorch中，全连接层在Linear类中定义。 第一个参数指定输入特征形状，即2，第二个指定输出特征形状，输出特征形状为单个标量，因此为1。\n",
    "net = nn.Sequential(nn.Linear(2, 1))"
   ]
  },
  {
   "cell_type": "code",
   "execution_count": 5,
   "metadata": {},
   "outputs": [
    {
     "data": {
      "text/plain": [
       "tensor([0.])"
      ]
     },
     "execution_count": 5,
     "metadata": {},
     "output_type": "execute_result"
    }
   ],
   "source": [
    "# 通过net[0]选择网络中的第一个图层， 然后使用weight.data和bias.data方法访问参数。还可以使用替换方法normal_和fill_来重写参数值\n",
    "net[0].weight.data.normal_(0, 0.01)\n",
    "net[0].bias.data.fill_(0)"
   ]
  },
  {
   "cell_type": "code",
   "execution_count": 6,
   "metadata": {},
   "outputs": [],
   "source": [
    "# PyTorch还提供了均方误差损失函数，它实例化为一个对象。 从nn模块导入MSELoss类，该类也称为平方L2范数。 默认情况下，它返回所有样本损失的平均值。\n",
    "loss = nn.MSELoss()\n",
    "# torch.optim.SGD 用于实现 随机梯度下降的优化器类。\n",
    "# net.parameters() 获取神经网络模型 net 的所有可学习参数（即权重和偏置）。这通常是一个可迭代的对象，包含了网络中的所有参数。\n",
    "trainer = torch.optim.SGD(net.parameters(), lr=0.03)"
   ]
  },
  {
   "cell_type": "code",
   "execution_count": null,
   "metadata": {},
   "outputs": [
    {
     "name": "stdout",
     "output_type": "stream",
     "text": [
      "epoch 1, loss 0.000279\n",
      "epoch 2, loss 0.000097\n",
      "epoch 3, loss 0.000097\n"
     ]
    }
   ],
   "source": [
    "num_epochs = 3\n",
    "for epoch in range(num_epochs):\n",
    "    for X, y in data_iter:\n",
    "        l = loss(net(X) ,y)\n",
    "        # 在每次迭代前，清除模型参数的梯度。\n",
    "        trainer.zero_grad()\n",
    "        l.backward()\n",
    "        # 调用优化器的step函数来迭代模型参数。\n",
    "        trainer.step()\n",
    "    # 每个epoch结束后，打印损失值\n",
    "    l = loss(net(features), labels)\n",
    "    print(f'epoch {epoch + 1}, loss {l:f}')"
   ]
  },
  {
   "cell_type": "code",
   "execution_count": 8,
   "metadata": {},
   "outputs": [
    {
     "name": "stdout",
     "output_type": "stream",
     "text": [
      "w的估计误差： tensor([-0.0007, -0.0003])\n",
      "b的估计误差： tensor([0.0006])\n"
     ]
    }
   ],
   "source": [
    "w = net[0].weight.data\n",
    "print('w的估计误差：', true_w - w.reshape(true_w.shape))\n",
    "b = net[0].bias.data\n",
    "print('b的估计误差：', true_b - b)"
   ]
  },
  {
   "cell_type": "markdown",
   "metadata": {},
   "source": [
    "1.如果将小批量的总损失替换为小批量损失的平均值，需要如何更改学习率？\n",
    "若使用总损失，则学习率通常设置为 lr。\n",
    "若使用平均损失，则可以将学习率 lr 增大为 lr * N（这里 N 是批量大小），以补偿梯度的缩小。\n",
    "\n",
    "2.如何访问线性回归的梯度？\n",
    "在反向传播后，你可以通过 w.grad 和 b.grad 来访问参数 w 和 b 的梯度。"
   ]
  }
 ],
 "metadata": {
  "kernelspec": {
   "display_name": "base",
   "language": "python",
   "name": "python3"
  },
  "language_info": {
   "codemirror_mode": {
    "name": "ipython",
    "version": 3
   },
   "file_extension": ".py",
   "mimetype": "text/x-python",
   "name": "python",
   "nbconvert_exporter": "python",
   "pygments_lexer": "ipython3",
   "version": "3.10.9"
  }
 },
 "nbformat": 4,
 "nbformat_minor": 2
}
